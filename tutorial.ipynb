{
 "cells": [
  {
   "cell_type": "code",
   "execution_count": 1,
   "metadata": {},
   "outputs": [
    {
     "name": "stderr",
     "output_type": "stream",
     "text": [
      "c:\\Users\\sridh\\OneDrive\\Desktop\\PicoGrad\\pico.py:25: SyntaxWarning: assertion is always true, perhaps remove parentheses?\n",
      "  assert (type(other) == Tensor, \"Other is a tensor, op=add\")\n",
      "c:\\Users\\sridh\\OneDrive\\Desktop\\PicoGrad\\pico.py:61: SyntaxWarning: assertion is always true, perhaps remove parentheses?\n",
      "  assert (type(other) == Tensor, \"Check whether object is tensor or not\")\n"
     ]
    }
   ],
   "source": [
    "import pico\n",
    "import time"
   ]
  },
  {
   "cell_type": "code",
   "execution_count": 2,
   "metadata": {},
   "outputs": [
    {
     "name": "stdout",
     "output_type": "stream",
     "text": [
      "0.0\n",
      "[5.5 6.9] data:  [5.5 6.9] data type:  <class 'numpy.ndarray'>\n"
     ]
    }
   ],
   "source": [
    "start_time = time.time()\n",
    "a = pico.Tensor([2.0, 3.4], label='a')\n",
    "b = pico.Tensor([3.5, 3.5], label='b')\n",
    "c = a + b\n",
    "\n",
    "end_time = time.time()\n",
    "\n",
    "## This needs some speeding up  \n",
    "print(end_time - start_time)\n",
    "print(c, 'data: ', c.data, 'data type: ', type(c.data))"
   ]
  },
  {
   "cell_type": "code",
   "execution_count": 3,
   "metadata": {},
   "outputs": [
    {
     "name": "stdout",
     "output_type": "stream",
     "text": [
      "0.0\n",
      "[ 7.  11.9]\n"
     ]
    }
   ],
   "source": [
    "start_time = time.time()\n",
    "a = pico.Tensor([2.0, 3.4], label='a')\n",
    "b = pico.Tensor([3.5, 3.5], label='b')\n",
    "c = a.__mul__(b)\n",
    "\n",
    "end_time = time.time()\n",
    "\n",
    "## This needs some speeding up  \n",
    "print(end_time - start_time)\n",
    "print(c.data)"
   ]
  },
  {
   "cell_type": "code",
   "execution_count": 4,
   "metadata": {},
   "outputs": [
    {
     "name": "stdout",
     "output_type": "stream",
     "text": [
      "Visiting this function right now?\n",
      "Topological graph for [ 7.  11.9]: [[3.5 3.5], [2.  3.4], [ 7.  11.9]]\n"
     ]
    }
   ],
   "source": [
    "topo = c.backward()"
   ]
  },
  {
   "cell_type": "code",
   "execution_count": 15,
   "metadata": {},
   "outputs": [
    {
     "data": {
      "text/plain": [
       "[[ 7.  11.9]]"
      ]
     },
     "execution_count": 15,
     "metadata": {},
     "output_type": "execute_result"
    }
   ],
   "source": [
    "topo"
   ]
  },
  {
   "cell_type": "code",
   "execution_count": 5,
   "metadata": {},
   "outputs": [
    {
     "data": {
      "text/plain": [
       "-8.0"
      ]
     },
     "execution_count": 5,
     "metadata": {},
     "output_type": "execute_result"
    }
   ],
   "source": [
    "a = pico.Tensor(2.0, label='a')\n",
    "b = pico.Tensor(-3.0, label='b')\n",
    "c = pico.Tensor(10.0, label='c')\n",
    "\n",
    "e = a*b\n",
    "e.label = 'e'\n",
    "\n",
    "d = e + c \n",
    "d.label = 'd'\n",
    "\n",
    "f = pico.Tensor(-2.0, label='f')\n",
    "\n",
    "L = d * f\n",
    "L.label = 'L'\n",
    "L"
   ]
  },
  {
   "cell_type": "code",
   "execution_count": 6,
   "metadata": {},
   "outputs": [
    {
     "name": "stdout",
     "output_type": "stream",
     "text": [
      "Visiting this function right now?\n",
      "Topological graph for -8.0: [-2.0, -3.0, 2.0, -6.0, 10.0, 4.0, -8.0]\n"
     ]
    },
    {
     "data": {
      "text/plain": [
       "[-2.0, -3.0, 2.0, -6.0, 10.0, 4.0, -8.0]"
      ]
     },
     "execution_count": 6,
     "metadata": {},
     "output_type": "execute_result"
    }
   ],
   "source": [
    "L.backward()"
   ]
  },
  {
   "cell_type": "code",
   "execution_count": null,
   "metadata": {},
   "outputs": [],
   "source": []
  },
  {
   "cell_type": "code",
   "execution_count": null,
   "metadata": {},
   "outputs": [],
   "source": []
  },
  {
   "cell_type": "markdown",
   "metadata": {},
   "source": [
    "## Torch"
   ]
  },
  {
   "cell_type": "code",
   "execution_count": null,
   "metadata": {},
   "outputs": [],
   "source": [
    "import torch\n",
    "\n",
    "t = torch.Tensor([1,2,4])"
   ]
  },
  {
   "cell_type": "code",
   "execution_count": null,
   "metadata": {},
   "outputs": [
    {
     "name": "stdout",
     "output_type": "stream",
     "text": [
      "<class 'str'>\n",
      "<class 'str'>\n"
     ]
    }
   ],
   "source": [
    "\n",
    "print(type(repr(t)))\n",
    "\n",
    "print(type(repr(a)))"
   ]
  },
  {
   "cell_type": "code",
   "execution_count": null,
   "metadata": {},
   "outputs": [],
   "source": []
  }
 ],
 "metadata": {
  "kernelspec": {
   "display_name": "base",
   "language": "python",
   "name": "python3"
  },
  "language_info": {
   "codemirror_mode": {
    "name": "ipython",
    "version": 3
   },
   "file_extension": ".py",
   "mimetype": "text/x-python",
   "name": "python",
   "nbconvert_exporter": "python",
   "pygments_lexer": "ipython3",
   "version": "3.9.13"
  }
 },
 "nbformat": 4,
 "nbformat_minor": 2
}
