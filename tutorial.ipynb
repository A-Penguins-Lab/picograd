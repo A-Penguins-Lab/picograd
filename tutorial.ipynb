{
 "cells": [
  {
   "cell_type": "code",
   "execution_count": 1,
   "metadata": {},
   "outputs": [
    {
     "name": "stdout",
     "output_type": "stream",
     "text": [
      "------------------------PROFILER MODE ENABLED------------------------\n",
      "To disable it, set SET_PFOILE_MODE=False in modes.py\n"
     ]
    }
   ],
   "source": [
    "import src.pico as pico\n",
    "from src.profiler import PicoProfiler\n",
    "import time"
   ]
  },
  {
   "cell_type": "code",
   "execution_count": 2,
   "metadata": {},
   "outputs": [
    {
     "name": "stdout",
     "output_type": "stream",
     "text": [
      "         13 function calls in 0.000 seconds\n",
      "\n",
      "   Random listing order was used\n",
      "\n",
      "   ncalls  tottime  percall  cumtime  percall filename:lineno(function)\n",
      "        3    0.000    0.000    0.000    0.000 c:\\Users\\sridh\\OneDrive\\Desktop\\PicoGrad\\src\\pico.py:12(__init__)\n",
      "        3    0.000    0.000    0.000    0.000 c:\\Users\\sridh\\OneDrive\\Desktop\\PicoGrad\\src\\pico.py:25(_properties)\n",
      "        1    0.000    0.000    0.000    0.000 c:\\Users\\sridh\\OneDrive\\Desktop\\PicoGrad\\src\\pico.py:30(_check_shapes)\n",
      "        1    0.000    0.000    0.000    0.000 c:\\Users\\sridh\\OneDrive\\Desktop\\PicoGrad\\src\\pico.py:56(__add__)\n",
      "        1    0.000    0.000    0.000    0.000 c:\\Users\\sridh\\OneDrive\\Desktop\\PicoGrad\\src\\profiler.py:45(__exit__)\n",
      "        1    0.000    0.000    0.000    0.000 {method 'disable' of '_lsprof.Profiler' objects}\n",
      "        3    0.000    0.000    0.000    0.000 {built-in method numpy.array}\n",
      "\n",
      "\n",
      "\n",
      "0.001013040542602539\n",
      "[5.5 6.9] data:  [5.5 6.9] data type:  <class 'numpy.ndarray'>\n"
     ]
    }
   ],
   "source": [
    "start_time = time.time()\n",
    "with PicoProfiler() as prof:\n",
    "    a = pico.Tensor([2.0, 3.4], label='a')\n",
    "    b = pico.Tensor([3.5, 3.5], label='b')\n",
    "    c = a + b\n",
    "    \n",
    "end_time = time.time()\n",
    "\n",
    "## This needs some speeding up  \n",
    "print(end_time - start_time)\n",
    "print(c, 'data: ', c.data, 'data type: ', type(c.data))"
   ]
  },
  {
   "cell_type": "code",
   "execution_count": null,
   "metadata": {},
   "outputs": [],
   "source": [
    "c"
   ]
  },
  {
   "cell_type": "code",
   "execution_count": null,
   "metadata": {},
   "outputs": [],
   "source": [
    "start_time = time.time()\n",
    "a = pico.Tensor([2.0, 3.4], label='a')\n",
    "b = pico.Tensor([3.5, 3.5], label='b')\n",
    "c = a.__mul__(b)\n",
    "\n",
    "end_time = time.time()\n",
    "\n",
    "## This needs some speeding up  \n",
    "print(end_time - start_time)\n",
    "print(c.data)"
   ]
  },
  {
   "cell_type": "code",
   "execution_count": null,
   "metadata": {},
   "outputs": [],
   "source": [
    "topo = c.backward()"
   ]
  },
  {
   "cell_type": "code",
   "execution_count": null,
   "metadata": {},
   "outputs": [],
   "source": [
    "topo"
   ]
  },
  {
   "cell_type": "code",
   "execution_count": null,
   "metadata": {},
   "outputs": [],
   "source": [
    "a = pico.Tensor(2.0, label='a')\n",
    "b = pico.Tensor(-3.0, label='b')\n",
    "c = pico.Tensor(10.0, label='c')\n",
    "\n",
    "e = a*b\n",
    "e.label = 'e'\n",
    "\n",
    "d = e + c \n",
    "d.label = 'd'\n",
    "\n",
    "f = pico.Tensor(-2.0, label='f')\n",
    "\n",
    "L = d * f\n",
    "L.label = 'L'\n",
    "L"
   ]
  },
  {
   "cell_type": "code",
   "execution_count": null,
   "metadata": {},
   "outputs": [],
   "source": [
    "L.backward()"
   ]
  },
  {
   "cell_type": "code",
   "execution_count": null,
   "metadata": {},
   "outputs": [],
   "source": [
    "start_time = time.time()\n",
    "a = pico.Tensor([2.0, 3.4], label='a')\n",
    "b = pico.Tensor([3.5, 3.5], label='b')\n",
    "c = a + b"
   ]
  },
  {
   "cell_type": "code",
   "execution_count": null,
   "metadata": {},
   "outputs": [],
   "source": [
    "a = pico.Tensor([2, 3], label='a')"
   ]
  },
  {
   "cell_type": "code",
   "execution_count": null,
   "metadata": {},
   "outputs": [],
   "source": [
    "b = a.not_view((1,2))\n",
    "\n",
    "print(b, a)\n",
    "print(b.shape, a.shape)"
   ]
  },
  {
   "cell_type": "code",
   "execution_count": null,
   "metadata": {},
   "outputs": [],
   "source": [
    "c = a.copy()\n"
   ]
  },
  {
   "cell_type": "code",
   "execution_count": null,
   "metadata": {},
   "outputs": [],
   "source": []
  },
  {
   "cell_type": "markdown",
   "metadata": {},
   "source": [
    "## Torch"
   ]
  },
  {
   "cell_type": "code",
   "execution_count": null,
   "metadata": {},
   "outputs": [],
   "source": [
    "import torch\n",
    "t = torch.Tensor([1,2,4])"
   ]
  },
  {
   "cell_type": "code",
   "execution_count": null,
   "metadata": {},
   "outputs": [],
   "source": [
    "print(type(repr(t)))\n",
    "print(type(repr(a)))"
   ]
  },
  {
   "cell_type": "code",
   "execution_count": null,
   "metadata": {},
   "outputs": [],
   "source": []
  }
 ],
 "metadata": {
  "kernelspec": {
   "display_name": "base",
   "language": "python",
   "name": "python3"
  },
  "language_info": {
   "codemirror_mode": {
    "name": "ipython",
    "version": 3
   },
   "file_extension": ".py",
   "mimetype": "text/x-python",
   "name": "python",
   "nbconvert_exporter": "python",
   "pygments_lexer": "ipython3",
   "version": "3.9.13"
  }
 },
 "nbformat": 4,
 "nbformat_minor": 2
}
