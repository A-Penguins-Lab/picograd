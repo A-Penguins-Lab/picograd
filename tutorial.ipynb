{
 "cells": [
  {
   "cell_type": "code",
   "execution_count": 1,
   "metadata": {},
   "outputs": [],
   "source": [
    "import src.pico as pico\n",
    "import time"
   ]
  },
  {
   "cell_type": "code",
   "execution_count": 19,
   "metadata": {},
   "outputs": [
    {
     "name": "stdout",
     "output_type": "stream",
     "text": [
      "0.0001494884490966797\n",
      "[5.5 6.9] data:  [5.5 6.9] data type:  <class 'numpy.ndarray'>\n"
     ]
    }
   ],
   "source": [
    "start_time = time.time()\n",
    "a = pico.Tensor([2.0, 3.4], label='a')\n",
    "b = pico.Tensor([3.5, 3.5], label='b')\n",
    "c = a + b\n",
    "\n",
    "end_time = time.time()\n",
    "\n",
    "## This needs some speeding up  \n",
    "print(end_time - start_time)\n",
    "print(c, 'data: ', c.data, 'data type: ', type(c.data))"
   ]
  },
  {
   "cell_type": "code",
   "execution_count": 20,
   "metadata": {},
   "outputs": [
    {
     "name": "stdout",
     "output_type": "stream",
     "text": [
      "0.0\n",
      "[ 7.  11.9]\n"
     ]
    }
   ],
   "source": [
    "start_time = time.time()\n",
    "a = pico.Tensor([2.0, 3.4], label='a')\n",
    "b = pico.Tensor([3.5, 3.5], label='b')\n",
    "c = a.__mul__(b)\n",
    "\n",
    "end_time = time.time()\n",
    "\n",
    "## This needs some speeding up  \n",
    "print(end_time - start_time)\n",
    "print(c.data)"
   ]
  },
  {
   "cell_type": "code",
   "execution_count": 21,
   "metadata": {},
   "outputs": [
    {
     "name": "stdout",
     "output_type": "stream",
     "text": [
      "Visiting this function right now?\n",
      "Topological graph for [ 7.  11.9]: [[3.5 3.5], [2.  3.4], [ 7.  11.9]]\n"
     ]
    }
   ],
   "source": [
    "topo = c.backward()"
   ]
  },
  {
   "cell_type": "code",
   "execution_count": 22,
   "metadata": {},
   "outputs": [
    {
     "data": {
      "text/plain": [
       "[[3.5 3.5], [2.  3.4], [ 7.  11.9]]"
      ]
     },
     "execution_count": 22,
     "metadata": {},
     "output_type": "execute_result"
    }
   ],
   "source": [
    "topo"
   ]
  },
  {
   "cell_type": "code",
   "execution_count": 23,
   "metadata": {},
   "outputs": [
    {
     "data": {
      "text/plain": [
       "-8.0"
      ]
     },
     "execution_count": 23,
     "metadata": {},
     "output_type": "execute_result"
    }
   ],
   "source": [
    "a = pico.Tensor(2.0, label='a')\n",
    "b = pico.Tensor(-3.0, label='b')\n",
    "c = pico.Tensor(10.0, label='c')\n",
    "\n",
    "e = a*b\n",
    "e.label = 'e'\n",
    "\n",
    "d = e + c \n",
    "d.label = 'd'\n",
    "\n",
    "f = pico.Tensor(-2.0, label='f')\n",
    "\n",
    "L = d * f\n",
    "L.label = 'L'\n",
    "L"
   ]
  },
  {
   "cell_type": "code",
   "execution_count": 24,
   "metadata": {},
   "outputs": [
    {
     "name": "stdout",
     "output_type": "stream",
     "text": [
      "Visiting this function right now?\n",
      "Topological graph for -8.0: [-2.0, 10.0, -3.0, 2.0, -6.0, 4.0, -8.0]\n"
     ]
    },
    {
     "data": {
      "text/plain": [
       "[-2.0, 10.0, -3.0, 2.0, -6.0, 4.0, -8.0]"
      ]
     },
     "execution_count": 24,
     "metadata": {},
     "output_type": "execute_result"
    }
   ],
   "source": [
    "L.backward()"
   ]
  },
  {
   "cell_type": "code",
   "execution_count": 25,
   "metadata": {},
   "outputs": [],
   "source": [
    "start_time = time.time()\n",
    "a = pico.Tensor([2.0, 3.4], label='a')\n",
    "b = pico.Tensor([3.5, 3.5], label='b')\n",
    "c = a + b"
   ]
  },
  {
   "cell_type": "code",
   "execution_count": 3,
   "metadata": {},
   "outputs": [],
   "source": [
    "a = pico.Tensor([2, 3], label='a')"
   ]
  },
  {
   "cell_type": "code",
   "execution_count": 5,
   "metadata": {},
   "outputs": [
    {
     "name": "stdout",
     "output_type": "stream",
     "text": [
      "Dimensions:  (1, 2)\n",
      "(2,)\n",
      "[[2. 3.]] [2. 3.]\n",
      "(1, 2) (2,)\n"
     ]
    }
   ],
   "source": [
    "b = a.not_view((1,2))\n",
    "\n",
    "print(b, a)\n",
    "print(b.shape, a.shape)"
   ]
  },
  {
   "cell_type": "code",
   "execution_count": null,
   "metadata": {},
   "outputs": [
    {
     "name": "stdout",
     "output_type": "stream",
     "text": [
      "Don't copy you donkey\n"
     ]
    }
   ],
   "source": [
    "c = a.copy()\n"
   ]
  },
  {
   "cell_type": "code",
   "execution_count": null,
   "metadata": {},
   "outputs": [],
   "source": []
  },
  {
   "cell_type": "markdown",
   "metadata": {},
   "source": [
    "## Torch"
   ]
  },
  {
   "cell_type": "code",
   "execution_count": null,
   "metadata": {},
   "outputs": [],
   "source": [
    "import torch\n",
    "t = torch.Tensor([1,2,4])"
   ]
  },
  {
   "cell_type": "code",
   "execution_count": null,
   "metadata": {},
   "outputs": [
    {
     "name": "stdout",
     "output_type": "stream",
     "text": [
      "<class 'str'>\n",
      "<class 'str'>\n"
     ]
    }
   ],
   "source": [
    "print(type(repr(t)))\n",
    "print(type(repr(a)))"
   ]
  },
  {
   "cell_type": "code",
   "execution_count": null,
   "metadata": {},
   "outputs": [],
   "source": []
  }
 ],
 "metadata": {
  "kernelspec": {
   "display_name": "base",
   "language": "python",
   "name": "python3"
  },
  "language_info": {
   "codemirror_mode": {
    "name": "ipython",
    "version": 3
   },
   "file_extension": ".py",
   "mimetype": "text/x-python",
   "name": "python",
   "nbconvert_exporter": "python",
   "pygments_lexer": "ipython3",
   "version": "3.9.13"
  }
 },
 "nbformat": 4,
 "nbformat_minor": 2
}
