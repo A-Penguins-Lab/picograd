{
 "cells": [
  {
   "cell_type": "code",
   "execution_count": 6,
   "metadata": {},
   "outputs": [],
   "source": [
    "import src.pico as pico\n",
    "from src.profiler import PicoProfiler\n",
    "import time"
   ]
  },
  {
   "cell_type": "code",
   "execution_count": 7,
   "metadata": {},
   "outputs": [
    {
     "name": "stdout",
     "output_type": "stream",
     "text": [
      "[ 7.3890561  29.96410005]\n",
      "         149 function calls (147 primitive calls) in 0.028 seconds\n",
      "\n",
      "   Random listing order was used\n",
      "   List reduced from 77 to 10 due to restriction <10>\n",
      "\n",
      "   ncalls  tottime  percall  cumtime  percall filename:lineno(function)\n",
      "        1    0.000    0.000    0.000    0.000 c:\\Users\\sridh\\anaconda3\\lib\\threading.py:536(is_set)\n",
      "        1    0.000    0.000    0.000    0.000 c:\\Users\\sridh\\anaconda3\\lib\\threading.py:1066(_wait_for_tstate_lock)\n",
      "        1    0.000    0.000    0.000    0.000 c:\\Users\\sridh\\anaconda3\\lib\\threading.py:1133(is_alive)\n",
      "        1    0.000    0.000    0.000    0.000 c:\\Users\\sridh\\anaconda3\\lib\\site-packages\\zmq\\sugar\\socket.py:543(send)\n",
      "        1    0.000    0.000    0.000    0.000 c:\\Users\\sridh\\anaconda3\\lib\\site-packages\\ipykernel\\iostream.py:90(_event_pipe)\n",
      "        1    0.000    0.000    0.000    0.000 c:\\Users\\sridh\\anaconda3\\lib\\site-packages\\ipykernel\\iostream.py:202(schedule)\n",
      "        2    0.000    0.000    0.000    0.000 c:\\Users\\sridh\\anaconda3\\lib\\site-packages\\ipykernel\\iostream.py:429(_is_master_process)\n",
      "        2    0.000    0.000    0.000    0.000 c:\\Users\\sridh\\anaconda3\\lib\\site-packages\\ipykernel\\iostream.py:448(_schedule_flush)\n",
      "        2    0.000    0.000    0.000    0.000 c:\\Users\\sridh\\anaconda3\\lib\\site-packages\\ipykernel\\iostream.py:518(write)\n",
      "        2    0.000    0.000    0.007    0.004 c:\\Users\\sridh\\OneDrive\\Desktop\\PicoGrad\\src\\pico.py:11(__init__)\n",
      "\n",
      "\n",
      "\n"
     ]
    }
   ],
   "source": [
    "with PicoProfiler() as prof:\n",
    "        a = pico.Tensor([2.0, 3.4], label='a')\n",
    "        c = a.exp()\n",
    "        print(c)\n",
    "\n",
    "end_time = time.time()"
   ]
  },
  {
   "cell_type": "code",
   "execution_count": 10,
   "metadata": {},
   "outputs": [
    {
     "name": "stdout",
     "output_type": "stream",
     "text": [
      "<class 'src.pico.Tensor'>\n",
      "Visiting this function right now?\n",
      "Topological graph for [0.19781611 0.80218389]: [[2.  3.4], [ 7.3890561  29.96410005], 37.35315614632766, [ 7.3890561  29.96410005], [0.19781611 0.80218389]]\n"
     ]
    },
    {
     "data": {
      "text/plain": [
       "[[2.  3.4],\n",
       " [ 7.3890561  29.96410005],\n",
       " 37.35315614632766,\n",
       " [ 7.3890561  29.96410005],\n",
       " [0.19781611 0.80218389]]"
      ]
     },
     "execution_count": 10,
     "metadata": {},
     "output_type": "execute_result"
    }
   ],
   "source": [
    "## Softmax implementation\n",
    "def softmax_function(a):\n",
    "    denominator = a.exp().sum()\n",
    "    return a.exp() / denominator\n",
    "\n",
    "res = softmax_function(a)\n",
    "print(type(res))\n",
    "res.backward()"
   ]
  },
  {
   "cell_type": "code",
   "execution_count": null,
   "metadata": {},
   "outputs": [],
   "source": []
  },
  {
   "cell_type": "markdown",
   "metadata": {},
   "source": []
  },
  {
   "cell_type": "code",
   "execution_count": null,
   "metadata": {},
   "outputs": [],
   "source": []
  },
  {
   "cell_type": "code",
   "execution_count": 5,
   "metadata": {},
   "outputs": [
    {
     "name": "stdout",
     "output_type": "stream",
     "text": [
      "Visiting this function right now?\n",
      "Topological graph for [-1.5 -0.1]: [[3.5 3.5], [2.  3.4], [-1.5 -0.1]]\n",
      "Visiting this function right now?\n",
      "Topological graph for [-1.5 -0.1]: [[2.  3.4], [3.5 3.5], [-1.5 -0.1]]\n",
      "Visiting this function right now?\n",
      "Topological graph for [-1.5 -0.1]: [[3.5 3.5], [2.  3.4], [-1.5 -0.1]]\n",
      "Visiting this function right now?\n",
      "Topological graph for [-1.5 -0.1]: [[2.  3.4], [3.5 3.5], [-1.5 -0.1]]\n",
      "Visiting this function right now?\n",
      "Topological graph for [-1.5 -0.1]: [[2.  3.4], [3.5 3.5], [-1.5 -0.1]]\n",
      "Visiting this function right now?\n",
      "Topological graph for [-1.5 -0.1]: [[3.5 3.5], [2.  3.4], [-1.5 -0.1]]\n",
      "Visiting this function right now?\n",
      "Topological graph for [-1.5 -0.1]: [[3.5 3.5], [2.  3.4], [-1.5 -0.1]]\n",
      "Visiting this function right now?\n",
      "Topological graph for [-1.5 -0.1]: [[2.  3.4], [3.5 3.5], [-1.5 -0.1]]\n",
      "Visiting this function right now?\n",
      "Topological graph for [-1.5 -0.1]: [[2.  3.4], [3.5 3.5], [-1.5 -0.1]]\n",
      "Visiting this function right now?\n",
      "Topological graph for [-1.5 -0.1]: [[2.  3.4], [3.5 3.5], [-1.5 -0.1]]\n",
      "Visiting this function right now?\n",
      "Topological graph for [-1.5 -0.1]: [[3.5 3.5], [2.  3.4], [-1.5 -0.1]]\n",
      "Visiting this function right now?\n",
      "Topological graph for [-1.5 -0.1]: [[2.  3.4], [3.5 3.5], [-1.5 -0.1]]\n",
      "Visiting this function right now?\n",
      "Topological graph for [-1.5 -0.1]: [[2.  3.4], [3.5 3.5], [-1.5 -0.1]]\n",
      "Visiting this function right now?\n",
      "Topological graph for [-1.5 -0.1]: [[3.5 3.5], [2.  3.4], [-1.5 -0.1]]\n",
      "Visiting this function right now?\n",
      "Topological graph for [-1.5 -0.1]: [[2.  3.4], [3.5 3.5], [-1.5 -0.1]]\n",
      "Visiting this function right now?\n",
      "Topological graph for [-1.5 -0.1]: [[3.5 3.5], [2.  3.4], [-1.5 -0.1]]\n",
      "Visiting this function right now?\n",
      "Topological graph for [-1.5 -0.1]: [[2.  3.4], [3.5 3.5], [-1.5 -0.1]]\n",
      "Visiting this function right now?\n",
      "Topological graph for [-1.5 -0.1]: [[2.  3.4], [3.5 3.5], [-1.5 -0.1]]\n",
      "Visiting this function right now?\n",
      "Topological graph for [-1.5 -0.1]: [[2.  3.4], [3.5 3.5], [-1.5 -0.1]]\n",
      "         9814 function calls (9624 primitive calls) in 0.014 seconds\n",
      "\n",
      "   Random listing order was used\n",
      "   List reduced from 81 to 10 due to restriction <10>\n",
      "\n",
      "   ncalls  tottime  percall  cumtime  percall filename:lineno(function)\n",
      "        1    0.000    0.000    0.000    0.000 c:\\Users\\sridh\\anaconda3\\lib\\threading.py:536(is_set)\n",
      "        1    0.000    0.000    0.000    0.000 c:\\Users\\sridh\\anaconda3\\lib\\threading.py:1066(_wait_for_tstate_lock)\n",
      "        1    0.000    0.000    0.000    0.000 c:\\Users\\sridh\\anaconda3\\lib\\threading.py:1133(is_alive)\n",
      "        1    0.000    0.000    0.000    0.000 c:\\Users\\sridh\\anaconda3\\lib\\site-packages\\zmq\\sugar\\socket.py:543(send)\n",
      "        1    0.000    0.000    0.000    0.000 c:\\Users\\sridh\\anaconda3\\lib\\site-packages\\ipykernel\\iostream.py:90(_event_pipe)\n",
      "        1    0.000    0.000    0.000    0.000 c:\\Users\\sridh\\anaconda3\\lib\\site-packages\\ipykernel\\iostream.py:202(schedule)\n",
      "       76    0.000    0.000    0.000    0.000 c:\\Users\\sridh\\anaconda3\\lib\\site-packages\\ipykernel\\iostream.py:429(_is_master_process)\n",
      "       76    0.000    0.000    0.000    0.000 c:\\Users\\sridh\\anaconda3\\lib\\site-packages\\ipykernel\\iostream.py:448(_schedule_flush)\n",
      "       76    0.000    0.000    0.001    0.000 c:\\Users\\sridh\\anaconda3\\lib\\site-packages\\ipykernel\\iostream.py:518(write)\n",
      "       57    0.000    0.000    0.001    0.000 c:\\Users\\sridh\\OneDrive\\Desktop\\PicoGrad\\src\\pico.py:11(__init__)\n",
      "\n",
      "\n",
      "\n",
      "0.015000581741333008\n",
      "[-1.5 -0.1] data:  [-1.5 -0.1] data type:  <class 'numpy.ndarray'>\n"
     ]
    }
   ],
   "source": [
    "start_time = time.time()\n",
    "with PicoProfiler() as prof:\n",
    "    for i in range(19):\n",
    "        a = pico.Tensor([2.0, 3.4], label='a')\n",
    "        b = pico.Tensor([3.5, 3.5], label='b')\n",
    "        c = a - b\n",
    "\n",
    "        c.backward()\n",
    "end_time = time.time()\n",
    "\n",
    "## This needs some speeding up  \n",
    "print(end_time - start_time)\n",
    "print(c, 'data: ', c.data, 'data type: ', type(c.data))"
   ]
  },
  {
   "cell_type": "code",
   "execution_count": null,
   "metadata": {},
   "outputs": [],
   "source": []
  },
  {
   "cell_type": "code",
   "execution_count": null,
   "metadata": {},
   "outputs": [],
   "source": [
    "start_time = time.time()\n",
    "a = pico.Tensor([2.0, 3.4], label='a')\n",
    "b = pico.Tensor([3.5, 3.5], label='b')\n",
    "c = a.__mul__(b)\n",
    "\n",
    "end_time = time.time()\n",
    "\n",
    "## This needs some speeding up  \n",
    "print(end_time - start_time)\n",
    "print(c.data)"
   ]
  },
  {
   "cell_type": "code",
   "execution_count": null,
   "metadata": {},
   "outputs": [],
   "source": [
    "topo = c.backward()"
   ]
  },
  {
   "cell_type": "code",
   "execution_count": null,
   "metadata": {},
   "outputs": [],
   "source": [
    "topo"
   ]
  },
  {
   "cell_type": "code",
   "execution_count": null,
   "metadata": {},
   "outputs": [],
   "source": [
    "a = pico.Tensor(2.0, label='a')\n",
    "b = pico.Tensor(-3.0, label='b')\n",
    "c = pico.Tensor(10.0, label='c')\n",
    "\n",
    "e = a*b\n",
    "e.label = 'e'\n",
    "\n",
    "d = e + c \n",
    "d.label = 'd'\n",
    "\n",
    "f = pico.Tensor(-2.0, label='f')\n",
    "\n",
    "L = d * f\n",
    "L.label = 'L'\n",
    "L"
   ]
  },
  {
   "cell_type": "code",
   "execution_count": null,
   "metadata": {},
   "outputs": [],
   "source": [
    "L.backward()"
   ]
  },
  {
   "cell_type": "code",
   "execution_count": null,
   "metadata": {},
   "outputs": [],
   "source": [
    "start_time = time.time()\n",
    "a = pico.Tensor([2.0, 3.4], label='a')\n",
    "b = pico.Tensor([3.5, 3.5], label='b')\n",
    "c = a + b"
   ]
  },
  {
   "cell_type": "code",
   "execution_count": null,
   "metadata": {},
   "outputs": [],
   "source": [
    "a = pico.Tensor([2, 3], label='a')"
   ]
  },
  {
   "cell_type": "code",
   "execution_count": null,
   "metadata": {},
   "outputs": [],
   "source": [
    "b = a.not_view((1,2))\n",
    "\n",
    "print(b, a)\n",
    "print(b.shape, a.shape)"
   ]
  },
  {
   "cell_type": "code",
   "execution_count": null,
   "metadata": {},
   "outputs": [],
   "source": [
    "c = a.copy()\n"
   ]
  },
  {
   "cell_type": "code",
   "execution_count": null,
   "metadata": {},
   "outputs": [],
   "source": []
  },
  {
   "cell_type": "markdown",
   "metadata": {},
   "source": [
    "## Torch"
   ]
  },
  {
   "cell_type": "code",
   "execution_count": null,
   "metadata": {},
   "outputs": [],
   "source": [
    "import torch\n",
    "t = torch.Tensor([1,2,4])"
   ]
  },
  {
   "cell_type": "code",
   "execution_count": null,
   "metadata": {},
   "outputs": [],
   "source": [
    "print(type(repr(t)))\n",
    "print(type(repr(a)))"
   ]
  },
  {
   "cell_type": "code",
   "execution_count": null,
   "metadata": {},
   "outputs": [],
   "source": []
  }
 ],
 "metadata": {
  "kernelspec": {
   "display_name": "base",
   "language": "python",
   "name": "python3"
  },
  "language_info": {
   "codemirror_mode": {
    "name": "ipython",
    "version": 3
   },
   "file_extension": ".py",
   "mimetype": "text/x-python",
   "name": "python",
   "nbconvert_exporter": "python",
   "pygments_lexer": "ipython3",
   "version": "3.9.13"
  }
 },
 "nbformat": 4,
 "nbformat_minor": 2
}
